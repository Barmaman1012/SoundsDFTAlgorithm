{
 "cells": [
  {
   "cell_type": "code",
   "execution_count": null,
   "id": "22dee31b-c852-411e-8201-6673ffecbe93",
   "metadata": {},
   "outputs": [],
   "source": []
  },
  {
   "cell_type": "markdown",
   "source": [
    "$$\n",
    "\\begin{array}{l}\n",
    "\\textbf{Project Proposal} \\\\\\\\\n",
    "\n",
    "\\textbf{Group Information:} \\\\\\\\\n",
    "\\quad \\text{Team Members: Gilad Bregman, Yaniv Arbel, Bar Maman} \\\\\\\\\n",
    "\n",
    "\\textbf{Topic Selection:} \\\\\\\\\n",
    "\\quad \\text{Chosen Topic: Voice Reconstruction} \\\\\\\\\n",
    "\n",
    "\\textbf{Project Scope and Objectives} \\\\\\\\\n",
    "\n",
    "\\textbf{Scope:} \\\\\\\\\n",
    "\\quad \\text{The project focuses on decomposing an audio recording into its fundamental frequencies. We aim to explore how audio signals can be both disassembled and reassembled using these frequency components. Every audio piece can be described as a mathematical function, which can be expressed as a linear combination of sine and cosine functions. We will approach each function as being spanned by vectors of sine and cosine.} \\\\\\\\\n",
    "\n",
    "\\textbf{Objectives:} \\\\\\\\\n",
    "\\quad \\text{1. Understand and apply linear algebra principles in audio signal decomposition.} \\\\\\\\\n",
    "\\quad \\text{2. Explore the Discrete Fourier Transform (DFT) as a tool for frequency decomposition.} \\\\\\\\\n",
    "\\quad \\text{3. Reconstruct original audio from frequency components to assess DFT accuracy and efficiency.} \\\\\\\\\n",
    "\n",
    "\\textbf{Research Approach:} \\\\\\\\\n",
    "\\quad \\text{Our group will begin by collecting diverse audio data. We will apply the Discrete Fourier Transform (DFT) to convert audio segments from the time domain} \\\\ \\text{into the frequency domain, allowing us to examine frequency components and understand their roles in the overall audio signal. Our findings will emphasize how these frequencies characterize the audio.} \\\\\\\\\n",
    "\n",
    "\\textbf{Mathematical Methods:} \\\\\\\\\n",
    "\\quad \\text{• Linear transformations and matrix multiplications.} \\\\\\\\\n",
    "\\quad \\text{• Representation of sine and cosine spaces as vectors for expressing audio signals.} \\\\\\\\\n",
    "\\quad \\text{• Series and approximations: exponential series, sine/cosine series, Fourier series.} \\\\\\\\\n",
    "\\quad \\text{• Complex numbers.} \\\\\\\\\n",
    "\\quad \\text{• Vector dot products.} \\\\\\\\\n",
    "\n",
    "\\textbf{Resources and Tools} \\\\\\\\\n",
    "\n",
    "\\textbf{Data Sources:} \\\\\\\\\n",
    "\\quad \\text{The audio data will be sourced from recordings we create, covering a variety of sounds.} \\\\\\\\\n",
    "\n",
    "\\textbf{Tools and Software:} \\\\\\\\\n",
    "\\quad \\text{We will use Python with libraries like NumPy for numerical calculations, Matplotlib for visualization, and SciPy for DFT functions to conduct our analyses.} \\\\\\\\\n",
    "\n",
    "\\textbf{Timeline} \\\\\\\\\n",
    "\n",
    "\\textbf{Milestones:} \\\\\\\\\n",
    "\\quad \\text{• Nov 18-24: Study required mathematical concepts.} \\\\\\\\\n",
    "\\quad \\text{• Nov 25-Dec 1: Design the algorithm and code in Python.} \\\\\\\\\n",
    "\\quad \\text{• Dec 2-8: Record sounds and test the algorithm on various cases.} \\\\\\\\\n",
    "\n",
    "\\textbf{Potential Challenges and Solutions} \\\\\\\\\n",
    "\n",
    "\\textbf{Challenges:} \\\\\\\\\n",
    "\\quad \\text{1. Studying complex algorithms and math concepts we're less familiar with.} \\\\\\\\\n",
    "\\quad \\text{2. Working with complex numbers, which are new to us.} \\\\\\\\\n",
    "\\quad \\text{3. Dealing with noisy, real-world audio data that complicates analysis.} \\\\\\\\\n",
    "\n",
    "\\textbf{Solutions:} \\\\\\\\\n",
    "\\quad \\text{• We will learn new mathematical concepts and the DFT algorithm thoroughly.} \\\\\\\\\n",
    "\\quad \\text{• We'll focus on applying linear algebra to non-complex numbers initially.} \\\\\\\\\n",
    "\\quad \\text{• We will record clear audio and test various edge cases.} \\\\\\\\\n",
    "\n",
    "\\textbf{Signatures:} \\\\\\\\\n",
    "\\quad \\text{Yaniv Arbel} \\\\\\\\\n",
    "\\quad \\text{Bar Maman} \\\\\\\\\n",
    "\\quad \\text{Gilad Bregman}\n",
    "\\end{array}\n",
    "$$\n"
   ],
   "metadata": {
    "collapsed": false
   },
   "id": "266a22feeb88b0d4"
  },
  {
   "cell_type": "code",
   "outputs": [],
   "source": [],
   "metadata": {
    "collapsed": false
   },
   "id": "e29dc48ba037a226"
  }
 ],
 "metadata": {
  "kernelspec": {
   "display_name": "Python 3 (ipykernel)",
   "language": "python",
   "name": "python3"
  },
  "language_info": {
   "codemirror_mode": {
    "name": "ipython",
    "version": 3
   },
   "file_extension": ".py",
   "mimetype": "text/x-python",
   "name": "python",
   "nbconvert_exporter": "python",
   "pygments_lexer": "ipython3",
   "version": "3.12.0"
  }
 },
 "nbformat": 4,
 "nbformat_minor": 5
}
